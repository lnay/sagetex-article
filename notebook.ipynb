{
 "cells": [
  {
   "cell_type": "markdown",
   "id": "ebd792c1",
   "metadata": {},
   "source": [
    "# Notebook for main SageTex work"
   ]
  },
  {
   "cell_type": "code",
   "execution_count": null,
   "id": "9cf7fb3a",
   "metadata": {
    "vscode": {
     "languageId": "plaintext"
    }
   },
   "outputs": [],
   "source": [
    "var(\"x\")"
   ]
  },
  {
   "cell_type": "markdown",
   "id": "b86f665c",
   "metadata": {},
   "source": [
    "(v :=\n",
    "    (x + 2)^2\n",
    ")"
   ]
  }
 ],
 "metadata": {
  "kernelspec": {
   "display_name": "SageMath 9.8",
   "language": "sage",
   "name": "sagemath"
  },
  "language_info": {
   "codemirror_mode": {
    "name": "ipython",
    "version": 3
   },
   "file_extension": ".py",
   "mimetype": "text/x-python",
   "name": "python",
   "nbconvert_exporter": "python",
   "pygments_lexer": "ipython3",
   "version": "3.11.3"
  }
 },
 "nbformat": 4,
 "nbformat_minor": 5
}
